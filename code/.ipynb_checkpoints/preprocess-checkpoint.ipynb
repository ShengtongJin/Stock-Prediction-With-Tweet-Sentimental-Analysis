{
 "cells": [
  {
   "cell_type": "code",
   "execution_count": null,
   "metadata": {},
   "outputs": [],
   "source": []
  },
  {
   "cell_type": "code",
   "execution_count": null,
   "metadata": {},
   "outputs": [],
   "source": [
    "from datetime import datetime\n",
    "\n",
    "reader = csv.reader(open('../data/collect.csv'))  # Here your csv file\n",
    "lines = list(reader)\n",
    "\n",
    "i = 1\n",
    "while i < len(lines):\n",
    "    d = datetime.strptime(lines[i][0], '%a %b %d %H:%M:%S %z %Y')\n",
    "    lines[i][0] = d.strftime('%Y-%m-%d')\n",
    "    lines[i].append(d.strftime('%H:%M:%S'))\n",
    "    i += 1\n",
    "\n",
    "writer = csv.writer(open('../data/include_time.csv', 'w'))\n",
    "writer.writerows(lines)"
   ]
  },
  {
   "cell_type": "code",
   "execution_count": null,
   "metadata": {},
   "outputs": [],
   "source": [
    "import pandas as pd \n",
    "df = pd.read_csv(\"../data/include_time.csv\")\n",
    "\n",
    "sort = df.sort_values(['date','time'], ascending = True)\n",
    "sort = sort.reset_index(drop=True)\n",
    "sort.to_csv(r'../data/sorted_time.csv', index = False)"
   ]
  },
  {
   "cell_type": "code",
   "execution_count": null,
   "metadata": {},
   "outputs": [],
   "source": [
    "import pandas as pd \n",
    "\n",
    "df = pd.read_csv(\"../data/sorted_time.csv\")\n",
    "\n",
    "df = df[df['tweet'].str.contains(\"#AMD\")]\n",
    "\n",
    "df.to_csv(r'../data/AMD_tweets.csv', index = False)"
   ]
  }
 ],
 "metadata": {
  "kernelspec": {
   "display_name": "Python 3",
   "language": "python",
   "name": "python3"
  },
  "language_info": {
   "codemirror_mode": {
    "name": "ipython",
    "version": 3
   },
   "file_extension": ".py",
   "mimetype": "text/x-python",
   "name": "python",
   "nbconvert_exporter": "python",
   "pygments_lexer": "ipython3",
   "version": "3.7.5"
  }
 },
 "nbformat": 4,
 "nbformat_minor": 2
}
